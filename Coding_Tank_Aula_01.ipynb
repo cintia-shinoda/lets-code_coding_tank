{
  "nbformat": 4,
  "nbformat_minor": 0,
  "metadata": {
    "colab": {
      "name": "Coding Tank - Aula 01.ipynb",
      "provenance": [],
      "collapsed_sections": []
    },
    "kernelspec": {
      "name": "python3",
      "display_name": "Python 3"
    },
    "language_info": {
      "name": "python"
    }
  },
  "cells": [
    {
      "cell_type": "markdown",
      "metadata": {
        "id": "UEUROonku5tx"
      },
      "source": [
        "# Aula 01\n",
        "\n",
        "Tue 11 May / 2021"
      ]
    },
    {
      "cell_type": "markdown",
      "metadata": {
        "id": "Zka30DX1vRaD"
      },
      "source": [
        "## Recursos a serem instalados para o curso:\n",
        "- Anaconda\n",
        "- VS Code\n",
        "\n",
        "## Onde encontrar material de consulta:\n",
        "- Google\n",
        "- Stack Overflow\n",
        "- Python Docs ou docs das bibliotecas que forem usadas\n",
        "-  Blogs\n",
        "\n",
        "## Critério de Avaliação:\n",
        "$$ Média = 0.1 * participação + 0.4 * listas + 0.5 * prova $$\n",
        "$$ Aprovação: Média >= 7 $$\n"
      ]
    },
    {
      "cell_type": "markdown",
      "metadata": {
        "id": "X8YmShyNw3AB"
      },
      "source": [
        "##        Python files vs Notebooks\n",
        "\n",
        "<table>\n",
        "    <thead>\n",
        "        <tr>\n",
        "            <th></th>\n",
        "            <th>Python File</th>\n",
        "            <th>Notebook</th>\n",
        "        </tr>\n",
        "    </thead\n",
        "    <tbody>\n",
        "        <tr>\n",
        "            <th>Formato</th>\n",
        "            <td>.py</td>\n",
        "            <td>.ipynb</td>\n",
        "        </tr>\n",
        "        <tr>\n",
        "            <th>Edita com</th>\n",
        "            <td>Editor de texto<br>IDE</td>\n",
        "            <td>Jupyter Notebook<br>Jupyter Lab</td>\n",
        "        </tr>\n",
        "        <tr>\n",
        "            <th>Casos de Uso</th>\n",
        "            <td>Criação de Programas<br>Criação de Bibliotecas<br>Script de Automação</td>\n",
        "            <td>Prototipagem<br>Análise de Dados<br>Criação de documentos com texto e código fonte</td>\n",
        "        </tr>\n",
        "    </tbody>\n",
        "</table>\n"
      ]
    },
    {
      "cell_type": "markdown",
      "metadata": {
        "id": "f0nxK3Se7eZv"
      },
      "source": [
        "Outras opções:\n",
        "- Google Colab\n",
        "- Jupyter Online"
      ]
    },
    {
      "cell_type": "markdown",
      "metadata": {
        "id": "VzhEaJGYvFpk"
      },
      "source": [
        "# INTRODUÇÃO À PROGRAMAÇÃO"
      ]
    },
    {
      "cell_type": "markdown",
      "metadata": {
        "id": "DlZN1v4MYl6Y"
      },
      "source": [
        "## O que é um programa de computador?\n",
        "\n",
        "Programa de Computador = Algoritmo \n",
        "\n",
        "### Algoritmo\n",
        "uma sequência de comandos finitos que executam alguma tarefa.\n",
        "\n",
        "## Para quê serve um programa de computador?\n",
        "Resolver problemas algoritmizáveis."
      ]
    },
    {
      "cell_type": "markdown",
      "metadata": {
        "id": "zuwLbde871e0"
      },
      "source": [
        "## Linguagens de Comunicação\n",
        "- Linguagem Natural (complexa e abstrata)\n",
        "- Linguagem de Programação (mais simples e menos abstrata)\n",
        "    - Alto Nível: Python, JS, C, C++\n",
        "    - Baixo Nível: Assembly\n"
      ]
    },
    {
      "cell_type": "markdown",
      "metadata": {
        "id": "Q5t5WQOM-IMf"
      },
      "source": [
        "## Python\n",
        "- linguagem de alto nível\n",
        "- linguagem interpretada\n",
        "- não tipada\n",
        "\n",
        "## Linguagem Interpretada x Linguagem Compilada\n",
        "- Linguagem Compilada: linguagem de programação em que o código é executado diretamente pelo sistema operacional, após ser compilado por um programa de computador chamado compilador para uma linguagem de baixo nível, como linguagem de montagem ou código de máquina..\n",
        "\n",
        "- Linguagem Interpretada: é uma linguagem de programação em que o código fonte é executado por um programa chamado interpretador, que em seguida é executado pelo sistema operacional  ou processador."
      ]
    },
    {
      "cell_type": "markdown",
      "metadata": {
        "id": "PswSbQAVwKg9"
      },
      "source": [
        "# SCRIPTS EM PYTHON"
      ]
    },
    {
      "cell_type": "code",
      "metadata": {
        "id": "4K84qgbUwOMW",
        "colab": {
          "base_uri": "https://localhost:8080/"
        },
        "outputId": "d9710cad-a893-4b35-d7bd-13baebe95d51"
      },
      "source": [
        "print(\"Olá Mundo!\")"
      ],
      "execution_count": null,
      "outputs": [
        {
          "output_type": "stream",
          "text": [
            "Olá Mundo!\n"
          ],
          "name": "stdout"
        }
      ]
    },
    {
      "cell_type": "code",
      "metadata": {
        "colab": {
          "base_uri": "https://localhost:8080/"
        },
        "id": "3fZ4Om03CQSi",
        "outputId": "876ce7fe-03bd-46e1-c34d-e1ec605dd55e"
      },
      "source": [
        "print(10+20)"
      ],
      "execution_count": null,
      "outputs": [
        {
          "output_type": "stream",
          "text": [
            "30\n"
          ],
          "name": "stdout"
        }
      ]
    },
    {
      "cell_type": "markdown",
      "metadata": {
        "id": "D1MK52b3DZqV"
      },
      "source": [
        "## Operadores Matemáticos"
      ]
    },
    {
      "cell_type": "code",
      "metadata": {
        "colab": {
          "base_uri": "https://localhost:8080/"
        },
        "id": "dq7BhMc4DoyH",
        "outputId": "a4a8db3c-1a5d-4575-a3f1-327e5ad9580a"
      },
      "source": [
        "print(\"Soma: \", 1 + 4)  # soma\n",
        "print(\"Subtração: \", 4 - 1)  # subtração\n",
        "print(\"Multiplicação: \", 3 * 6)  # multiplicação\n",
        "print(\"Divisão: \", 10 / 5)  # divisão\n",
        "print(\"Potência: \", 2 ** 3)  # potência\n",
        "print(\"Resto: \", 11 % 2)  # resto\n",
        "print(\"Divisão inteira: \", 11 // 2)  # divisão inteira\n",
        "print(\"Raiz: \", 10**(1/2))  ## raiz quadrada de 10"
      ],
      "execution_count": null,
      "outputs": [
        {
          "output_type": "stream",
          "text": [
            "Soma:  5\n",
            "Subtração:  3\n",
            "Multiplicação:  18\n",
            "Divisão:  2.0\n",
            "Potência:  8\n",
            "Resto:  1\n",
            "Divisão inteira:  5\n",
            "Raiz:  3.1622776601683795\n"
          ],
          "name": "stdout"
        }
      ]
    },
    {
      "cell_type": "markdown",
      "metadata": {
        "id": "MVLGyMrGx2Pm"
      },
      "source": [
        "obs.:\n",
        "$$\\Large\\sqrt[\\leftroot{-2}\\uproot{2}b]{x^a} = x^\\frac{a}{b}$$"
      ]
    },
    {
      "cell_type": "markdown",
      "metadata": {
        "id": "Gu1s3FBxHtYh"
      },
      "source": [
        "### Precedência de Operadores\n",
        "\n",
        "Do Maior para o menor:\n",
        "- parênteses\n",
        "- exponenciação\n",
        "- multiplicação e divisão\n",
        "- adição e subtração"
      ]
    },
    {
      "cell_type": "markdown",
      "metadata": {
        "id": "BjLzQ0jsISGp"
      },
      "source": [
        "### Exercício:\n",
        "\n",
        "Crie um programa que imprime a seguinte saída:\n",
        "\n",
        "```\n",
        "A média entre 4 e 10 é:\n",
        "7\n",
        "```"
      ]
    },
    {
      "cell_type": "code",
      "metadata": {
        "colab": {
          "base_uri": "https://localhost:8080/"
        },
        "id": "6VIMegQiu1Eh",
        "outputId": "f39e706e-01c5-4a5c-f748-be84400533c9"
      },
      "source": [
        "media = (4+10)/2\n",
        "print(\"A média entre 4 e 10 é:\")\n",
        "print(int(media))"
      ],
      "execution_count": null,
      "outputs": [
        {
          "output_type": "stream",
          "text": [
            "A média entre 4 e 10 é:\n",
            "7\n"
          ],
          "name": "stdout"
        }
      ]
    },
    {
      "cell_type": "markdown",
      "metadata": {
        "id": "A16bZj53_vtd"
      },
      "source": [
        "## Variáveis e Constantes:\n",
        "- elementos básicos de um programa\n",
        "- espaço reservado na memória do computador para armazenar um tipo de dado determinado\n",
        "- operador `=` para atribuir valor à variável\n",
        "- devem receber nomes (Pyhton: case sensitive, snake_case)\n",
        "\n",
        "### Limitações de Nomenclatura:\n",
        "- podem conter letras, números e underscores\n",
        "- devem começar com uma letra ou underscore \n",
        "- não pode iniciar com número\n",
        "- início com underscore tem significado especial\n",
        "- não pode ter espaço\n",
        "- não se deve palavras reservadas: and, print\n",
        "- não se deve usar palavras com acentos\n",
        "\n",
        "obs: PEP8: define o style guide para Python\n",
        "\n",
        "### Tipos de variáveis:\n",
        "- inteiros (int) \n",
        "- float (usa-se ponto para indicar casas  decimais)\n",
        "- caracteres (str): definidos entre aspas\n",
        "- booleanos (bool):  V ou F\n",
        "\n",
        "obs.: `type(nova_da_variavel)`"
      ]
    },
    {
      "cell_type": "markdown",
      "metadata": {
        "id": "Hc-leMMW_VOG"
      },
      "source": [
        "## Fluxo de Entrada e Saída\n",
        "o Algoritmo é dividido em 3 fases fundamentais:\n",
        "- Entrada: `input()`\n",
        "- Processamento\n",
        "- Saída: `print()`\n",
        "\n",
        "obs.: `\\n` serve para fazer a quebra de linha.\n",
        "obs.: cada print imprime o valor em uma nova linha (o parâmetro `end` da função `print`usa o  `\\n` por padrão."
      ]
    },
    {
      "cell_type": "markdown",
      "metadata": {
        "id": "iuY1vzxVAi2W"
      },
      "source": [
        "## Fluxograma ou diagrama de blocos\n",
        "- forma padronizada de representar os passos de um algoritmo\n",
        "- facilita a visualização dos passos de um processamento"
      ]
    },
    {
      "cell_type": "markdown",
      "metadata": {
        "id": "BA0OWY5xQm28"
      },
      "source": [
        "### Exercício: \n",
        "Faça um programa que lê o lado do quadrado do input do usuário e devolve sua área."
      ]
    },
    {
      "cell_type": "code",
      "metadata": {
        "id": "c7PtSvZ_QkCz"
      },
      "source": [
        "lado = float(input(\"Digite o lado do quadrado: \"))\n",
        "area_quadrado = lado ** 2\n",
        "print(\"A área do quadrado é:\", area_quadrado)"
      ],
      "execution_count": null,
      "outputs": []
    },
    {
      "cell_type": "markdown",
      "metadata": {
        "id": "KHR7ZA613YYE"
      },
      "source": [
        "### Exercício:\n",
        "Crie um programa que guarda dois valores nas variáveis nota1 e nota2 e imprime a média desses valores."
      ]
    },
    {
      "cell_type": "code",
      "metadata": {
        "id": "riAf9pL_IrKQ"
      },
      "source": [
        "nota1 = float(input(\"Digite a primeira nota: \"))\n",
        "nota2 = float(input(\"Digite a segunda nota: \"))\n",
        "media = (nota1 + nota2)/2\n",
        "print(\"Média: \", media)"
      ],
      "execution_count": null,
      "outputs": []
    },
    {
      "cell_type": "markdown",
      "metadata": {
        "id": "VKzpjFe4dwwC"
      },
      "source": [
        "### Exercício:\n",
        "Fernando é muito impaciente. Ele começou um telecurso, mas não tem paciencia de ver um video por dia, então ele quer ver todos os videos em sequência.\n",
        "\n",
        "Crie um programa de computador que leia a hora que o Fernando está começando a ver o curso, a duração e imprima a hora do dia que ele vai terminar e quanto dias levou para completar\n",
        "\n",
        "Por exemplo:\n",
        "- Entradas\n",
        "  - Inicio do curso: 12\n",
        "  - Duração: 26\n",
        "- Saidas:\n",
        "  - Horario do fim do curso: 14\n",
        "  - Número de dias: 1\n",
        "\n",
        "\n",
        "  obs.: para resolver: Aritmética Modular"
      ]
    },
    {
      "cell_type": "code",
      "metadata": {
        "colab": {
          "base_uri": "https://localhost:8080/"
        },
        "id": "jPg3lmfMeGC2",
        "outputId": "e1d137ad-aa93-4de6-b406-14dba3a65507"
      },
      "source": [
        "horario_inicio = int(input(\"Informe o horário de início: \"))\n",
        "duracao = int(input(\"Digite a duração: \"))\n",
        "\n",
        "dias = duracao // 24\n",
        "horario_fim = (horario_inicio + duracao) % 24\n",
        "\n",
        "print(\"Horário do fim do curso: \", horario_fim)\n",
        "print(\"Número de dias: \", dias)"
      ],
      "execution_count": null,
      "outputs": [
        {
          "output_type": "stream",
          "text": [
            "Informe o horário de início: 12\n",
            "Digite a duração: 26\n",
            "Horário do fim do curso:  14\n",
            "Número de dias:  1\n"
          ],
          "name": "stdout"
        }
      ]
    },
    {
      "cell_type": "code",
      "metadata": {
        "id": "rSwuX0UliFTq"
      },
      "source": [
        ""
      ],
      "execution_count": null,
      "outputs": []
    }
  ]
}