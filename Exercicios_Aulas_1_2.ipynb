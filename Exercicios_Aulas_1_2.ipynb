{
  "nbformat": 4,
  "nbformat_minor": 0,
  "metadata": {
    "colab": {
      "name": "Exercicios_Aulas_1-2.ipynb",
      "provenance": [],
      "collapsed_sections": []
    },
    "kernelspec": {
      "name": "python3",
      "display_name": "Python 3"
    },
    "language_info": {
      "name": "python"
    }
  },
  "cells": [
    {
      "cell_type": "markdown",
      "metadata": {
        "id": "R3hC6u7h8eas"
      },
      "source": [
        "# Aula 2 - Fixacao"
      ]
    },
    {
      "cell_type": "markdown",
      "metadata": {
        "id": "jmk7e4x77NfW"
      },
      "source": [
        "## Q1\n",
        "Faça um script que mostra a média de duas notas."
      ]
    },
    {
      "cell_type": "code",
      "metadata": {
        "id": "dt2IB03HTrWH"
      },
      "source": [
        "nota_1 = float(input(\"Digite a primeira nota: \"))\n",
        "nota_2 = float(input(\"Digite a segunda nota: \"))\n",
        "media = (nota_1 + nota_2) / 2\n",
        "print(\"A média entre as duas notas é: \", media)"
      ],
      "execution_count": null,
      "outputs": []
    },
    {
      "cell_type": "markdown",
      "metadata": {
        "id": "-U9dmFXx7Nij"
      },
      "source": [
        "## Q2\n",
        "\n",
        "Faça um script para somar dois números e multiplicar o resultado pelo primeiro número."
      ]
    },
    {
      "cell_type": "code",
      "metadata": {
        "id": "Kdro12QRUjrI"
      },
      "source": [
        "numero_1 = float(input(\"Digite o primeiro número: \"))\n",
        "numero_2 = float(input(\"Digite o segundo númeero: \"))\n",
        "soma = numero_1 + numero_2\n",
        "num_final = soma * numero_1\n",
        "print(\"O resultado é: \", num_final)"
      ],
      "execution_count": null,
      "outputs": []
    },
    {
      "cell_type": "markdown",
      "metadata": {
        "id": "oAxKkh1t7Nnp"
      },
      "source": [
        "## Q3\n",
        "Escreva um script para ler um valor (do teclado) e escrever (na tela) o seu antecessor.\n"
      ]
    },
    {
      "cell_type": "code",
      "metadata": {
        "id": "dAfi1H02VApH"
      },
      "source": [
        "numero = int(input(\"Digite um valor: \"))\n",
        "print(\"O antecessor do valor digitado é: \", numero - 1)"
      ],
      "execution_count": null,
      "outputs": []
    },
    {
      "cell_type": "markdown",
      "metadata": {
        "id": "DRNxOdwD7NrM"
      },
      "source": [
        "## Q4\n",
        "\n",
        "Escreva um script para ler o salário mensal atual de um funcionário e o percentual de reajuste. Calcular e escrever o valor do novo salário.\n"
      ]
    },
    {
      "cell_type": "code",
      "metadata": {
        "id": "GovAQK1SVWF4"
      },
      "source": [
        "salario_atual = float(input(\"Digite o salário mensal atual do funcionário: \"))\n",
        "percentual_reajuste = float(input(\"Digite o percentual de reajuste: \"))\n",
        "reajuste = 1 + (percentual_reajuste / 100)\n",
        "novo_salario = salario_atual * reajuste\n",
        "print(\"O novo salário é: R$ \", novo_salario)"
      ],
      "execution_count": null,
      "outputs": []
    },
    {
      "cell_type": "markdown",
      "metadata": {
        "id": "XvmzNDSd7Nu_"
      },
      "source": [
        "## Q5\n",
        "Escreva um script que armazene o valor 10 em uma variável A e o valor 20 em uma variável B. A seguir (utilizando apenas atribuições entre variáveis) troque os seus conteúdos fazendo com que o valor que está em A passe para B e vice-versa. Ao final, escrever os valores que ficaram armazenados nas variáveis.\n"
      ]
    },
    {
      "cell_type": "code",
      "metadata": {
        "id": "tDxt0yXUXPDv"
      },
      "source": [
        "A = 10\n",
        "B = 20\n",
        "aux = A\n",
        "A = B\n",
        "B = aux\n",
        "\n",
        "print(\"O valor da variável A é: \", A)\n",
        "print(\"O valor da variável B é: \", B)"
      ],
      "execution_count": null,
      "outputs": []
    },
    {
      "cell_type": "markdown",
      "metadata": {
        "id": "UCtNTUh37Nya"
      },
      "source": [
        "## Q6\n",
        "Faça um script que peça um nome e a idade que a pessoa fez ou vai fazer esse ano. Ao final, informe o ano de nascimento dessa pessoa.\n"
      ]
    },
    {
      "cell_type": "code",
      "metadata": {
        "id": "jOjMgJRYYWdp"
      },
      "source": [
        "nome = input(\"Digite o nome: \")\n",
        "idade = int(input(\"Digite a idade que tem ou vai ter neste ano: \"))\n",
        "ano_nascimento = 2021 - idade\n",
        "print(\"A pessoa com o nome:\",nome,\", nasceu no ano: \",ano_nascimento)"
      ],
      "execution_count": null,
      "outputs": []
    },
    {
      "cell_type": "markdown",
      "metadata": {
        "id": "DXKclFmR7fTu"
      },
      "source": [
        "## Q7\n",
        "Faça um script que receba um número e informe:\n",
        "\n",
        "    1. O dobro desse número\n",
        "    2. O número ao quadrado\n",
        "    3. O número ao cubo\n",
        "\n"
      ]
    },
    {
      "cell_type": "code",
      "metadata": {
        "id": "yc9iZK4VZxRu"
      },
      "source": [
        "numero = int(input(\"Digite um número: \"))\n",
        "print(\"O dobro de\",numero,\"é\",numero * 2)\n",
        "print(\"O quadrado de\",numero,\"é\",numero**2)\n",
        "print(\"O cubo de\",numero,\"é\",numero**3)"
      ],
      "execution_count": null,
      "outputs": []
    },
    {
      "cell_type": "markdown",
      "metadata": {
        "id": "4a1-e7yy7fXB"
      },
      "source": [
        "## Q8\n",
        "Faça um script que converta graus Fahrenheit para Celsius\n",
        "\n",
        "Dica: C = (5 * (F-32) / 9)\n"
      ]
    },
    {
      "cell_type": "code",
      "metadata": {
        "id": "kvFhZWhqat_9"
      },
      "source": [
        "F = float(input(\"Informe a temperatura em Fahrenheit: \"))\n",
        "C = (5*(F-32)/9)\n",
        "print(\"A temperatura em Celsius é: \", C)"
      ],
      "execution_count": null,
      "outputs": []
    },
    {
      "cell_type": "markdown",
      "metadata": {
        "id": "Qn2cQX0E7un8"
      },
      "source": [
        "# Logica proposicional\n"
      ]
    },
    {
      "cell_type": "markdown",
      "metadata": {
        "id": "Yh5s3Eu-7fal"
      },
      "source": [
        "## Q1\n",
        "Determine a negação das seguintes expressões:\n",
        "\n",
        "a) a > b\n",
        "\n",
        "b) a >= b\n",
        "\n",
        "c) a >= 18 and dia == 3\n",
        "\n",
        "d) a >= 18 and dia != 3\n"
      ]
    },
    {
      "cell_type": "markdown",
      "metadata": {
        "id": "sS1y26kBiTxr"
      },
      "source": [
        "### Respostas:\n",
        "a) a <= b\n",
        "<br>b) a < b\n",
        "<br>c) a < 18 or dia != 3\n",
        "<br>d) a < 18 or dia == 3 "
      ]
    },
    {
      "cell_type": "markdown",
      "metadata": {
        "id": "RKdPlEkP7feN"
      },
      "source": [
        "## Q2\n",
        "Determine se as seguintes expressões são verdadeiras ou falsas: \n",
        "\n",
        "a) True and True\n",
        "<br>R: Verdadeira\n",
        "\n",
        "b) False and True\n",
        "<br>R: Falsa\n",
        "\n",
        "c) 1 == 1 and 2 == 1\n",
        "<br>R: Falsa\n",
        "\n",
        "d) \"test\" == \"test\"\n",
        "<br>R: Verdadeira\n",
        "\n",
        "e) 1 == 1 or 2 != 1\n",
        "<br>R: Verdadeira\n",
        "\n",
        "f) True and 1 == 1\n",
        "<br>R: Verdadeira\n",
        "\n",
        "g) False and 0 != 0\n",
        "<br>R: Falsa\n",
        "\n",
        "h) True or 1 == 1\n",
        "<br>R: Verdadeira\n",
        "\n",
        "i) \"test\" == \"testing\"\n",
        "<br>R: Falsa\n",
        "\n",
        "j) 1 != 0 and 2 == 1\n",
        "<br> Falsa\n",
        "\n",
        "k) \"test\" != \"testing\"\n",
        "<br>R: Verdadeira\n",
        "\n",
        "l) \"test\" == 1\n",
        "<br>R: Falsa\n",
        "\n",
        "m) not (True and False)\n",
        "<br>R: Verdadeira\n",
        "\n",
        "n) not (1 == 1 and 0 != 1)\n",
        "<br>R: Falsa\n",
        "\n",
        "o) not (10 == 1 or 1000 == 1000)\n",
        "<br> R: Falsa\n",
        "\n",
        "p) not (1 != 10 or 3 == 4)\n",
        "<br>R: Falsa\n",
        "\n",
        "q) not (\"testing\" == \"testing\" and \"Zed\" == \"Cool Guy\")\n",
        "<br>R: Verdadeira\n",
        "\n",
        "r) 1 == 1 and not (\"testing\" == 1 or 1 == 0)\n",
        "<br>R: Verdadeira\n",
        "\n",
        "s) \"chunky\" == \"bacon\" and not (3 == 4 or 3 == 3)\n",
        "<br>R: Falsa\n",
        "\n",
        "t) 3 == 3 and not (\"testing\" == \"testing\" or ( \"Python\" == \"Fun\"))\n",
        " <br>R: Falsa"
      ]
    },
    {
      "cell_type": "markdown",
      "metadata": {
        "id": "2pus2Ou27fhe"
      },
      "source": [
        "# Lista 4 - Fixacao\n"
      ]
    },
    {
      "cell_type": "markdown",
      "metadata": {
        "id": "F2e31lgN8BFt"
      },
      "source": [
        "## Q1\n",
        "Faça um script que leia dois números e informe o maior deles.\n"
      ]
    },
    {
      "cell_type": "code",
      "metadata": {
        "id": "d0jiK0LxbbGF"
      },
      "source": [
        "numero_1 = int(input(\"Informe um número: \"))\n",
        "numero_2 = int(input(\"Informe outro número: \"))\n",
        "if numero_1 > numero_2:\n",
        "    print(\"O maior número é:\", numero_1)\n",
        "else:\n",
        "    print(\"O maior número é:\", numero_2)"
      ],
      "execution_count": null,
      "outputs": []
    },
    {
      "cell_type": "markdown",
      "metadata": {
        "id": "hRxt7otW8BJJ"
      },
      "source": [
        "## Q2\n",
        "Faça um script que leia um número e informe se ele é par ou ímpar.\n"
      ]
    },
    {
      "cell_type": "code",
      "metadata": {
        "id": "JXkanfsncH9V"
      },
      "source": [
        "numero = int(input(\"Digite um número inteiro: \"))\n",
        "if numero % 2 == 0:\n",
        "    print(\"O número é par\")\n",
        "else:\n",
        "    print(\"O número é ímpar\")"
      ],
      "execution_count": null,
      "outputs": []
    },
    {
      "cell_type": "markdown",
      "metadata": {
        "id": "8_o0SlaW8BMv"
      },
      "source": [
        "## Q3\n",
        "Faça um script que informe se uma pessoa está apta para dirigir um carro.Uma pessoa só pode dirigir se for maior de idade e se tiver carteira de motorista. Dica: carteira pode ser variável lógica.\n"
      ]
    },
    {
      "cell_type": "code",
      "metadata": {
        "id": "DcFwY05wciS3"
      },
      "source": [
        "idade = int(input(\"Digite a idade: \"))\n",
        "habilitada = input(\"Se tiver carteira de motorista, digite S. Se não tiver carteira de motorista, digite N\")\n",
        "\n",
        "if idade >= 18 and habilitada == 'S':\n",
        "    print(\"A pessoa está apta para dirigir um carro\")\n",
        "else:\n",
        "    print(\"A pessoa não está apta para dirigir um carro\")"
      ],
      "execution_count": null,
      "outputs": []
    },
    {
      "cell_type": "markdown",
      "metadata": {
        "id": "jNMMlR408BP9"
      },
      "source": [
        "## Q4\n",
        "Faça um script que faça o login de uma pessoa no servidor ABC. A usuário é \"admin\" e a senha é \"admin123\".\n"
      ]
    },
    {
      "cell_type": "code",
      "metadata": {
        "id": "MiJVeOcKd_iF"
      },
      "source": [
        "print(\"--- SERVIDOR ABC ---\")\n",
        "usuario = input(\"Digite o usuário: \")\n",
        "senha = input(\"Digite a senha: \")\n",
        "\n",
        "if usuario == \"admin\" and senha == \"admin123\":\n",
        "    print(\"Login realizado com sucesso\")\n",
        "else:\n",
        "    print(\"Usuário e/ou Senha Incorreto(s)\")"
      ],
      "execution_count": null,
      "outputs": []
    },
    {
      "cell_type": "markdown",
      "metadata": {
        "id": "4P3prq8h8BTE"
      },
      "source": [
        "## Q5\n",
        "Em termos de número de comparações, explique qual dos dois scripts é o que realiza menos comparações:\n",
        "\n",
        "```\n",
        "Script 1\n",
        "idade = int(input())\n",
        "if idade >= 18:\n",
        "  print('Vc é adulto')\n",
        "if idade >= 13 and idade <= 17:\n",
        "  print('Vc é adolescente')\n",
        "```\n",
        "\n",
        "```\n",
        "Script 2\n",
        "idade = int(input())\n",
        "if idade >= 18:\n",
        "  print('Vc é adulto')\n",
        "else:\n",
        "  if idade >= 13 and idade <= 17:\n",
        "    print('Vc é adolescente')\n",
        "```"
      ]
    },
    {
      "cell_type": "markdown",
      "metadata": {
        "id": "cYc4V5PtrMKz"
      },
      "source": [
        "R: O Script 2 realiza menos comparações, pois existe um `else` que poupa uma comparação"
      ]
    },
    {
      "cell_type": "markdown",
      "metadata": {
        "id": "jFmYYyLJ8BWb"
      },
      "source": [
        "## Q6\n",
        "Uma empresa irá aplicar um reajuste nos salários de seus funcionários de acordo com as seguintes regras:\n",
        "\n",
        "Salário até R$2800,00 (incluindo): aumento de 20%;\n",
        "\n",
        "Salários entre R 2800,00 e R$7000,00: aumento de 15%;\n",
        "\n",
        "Salários entre R 7000,00 e R$15000,00: aumento de 10%;\n",
        "\n",
        "Salários de R$15000,00 em diante: aumento de 5%.\n",
        "\n",
        "Dado o salário de um funcionário, informe: o salário antes do reajuste; o percentual de aumento aplicado; o valor do aumento e o novo salário.\n"
      ]
    },
    {
      "cell_type": "code",
      "metadata": {
        "id": "IkMf1glke-yi"
      },
      "source": [
        "salario_anterior = float(input(\"Informe o salário do funcionário: \"))\n",
        "\n",
        "if salario_anterior <= 2800:\n",
        "    print(\"O salário antes do reajuste era: R$\", salario_anterior)\n",
        "    print(\"O percentual do aumento aplicado é 20%\")\n",
        "    print(\"O aumento aplicado é: \", salario_anterior * 0.2)\n",
        "    print(\"O novo salário será: R$\", salario_anterior * 1.2)\n",
        "elif salario_anterior > 2800 and salario_anterior <= 7000:\n",
        "    print(\"O salário antes do reajuste era: R$\", salario_anterior)\n",
        "    print(\"O percentual do aumento aplicado é 15%\")\n",
        "    print(\"O aumento aplicado é: \", salario_anterior * 0.15)\n",
        "    print(\"O novo salário será: R$\", salario_anterior * 1.15)\n",
        "elif salario_anterior > 7000 and salario_anterior <= 15000:\n",
        "    print(\"O salário antes do reajuste era: R$\", salario_anterior)\n",
        "    print(\"O percentual do aumento aplicado é 10%\")\n",
        "    print(\"O aumento aplicado é: \", salario_anterior * 0.10)\n",
        "    print(\"O novo salário será: R$\", salario_anterior * 1.10)\n",
        "else:\n",
        "    print(\"O salário antes do reajuste era: R$\", salario_anterior)\n",
        "    print(\"O percentual do aumento aplicado é 5%\")\n",
        "    print(\"O aumento aplicado é: \", salario_anterior * 0.05)\n",
        "    print(\"O novo salário será: R$\", salario_anterior * 1.05)"
      ],
      "execution_count": null,
      "outputs": []
    },
    {
      "cell_type": "markdown",
      "metadata": {
        "id": "bYVAixBd8X6u"
      },
      "source": [
        "## Q7\n",
        "Faça um script de menu que mostra na tela, com o título de \"Menu Principal\" e mais três opções: 1 - Fim; 2 - Cadastro; 3 - Consulta.\n",
        "\n",
        "O programa recebe um input do teclado a opção desejada e mostra uma mensagem confirmando a opção escolhida. Caso a opção escolhida seja inválida, mostrar uma mensagem de erro \"Opção Inválida\".\n"
      ]
    },
    {
      "cell_type": "code",
      "metadata": {
        "id": "ea6rWjza9Nhs"
      },
      "source": [
        "print(\"Menu Principal\")\n",
        "print(\"1 - Fim\")\n",
        "print(\"2 - Cadastro\")\n",
        "print(\"3 - Consulta\")\n",
        "\n",
        "opcao = input(\"Digite o número da opção: \")\n",
        "\n",
        "if opcao == \"1\":\n",
        "    print(\"Você escolheu finalizar\")\n",
        "elif opcao == \"2\":\n",
        "    print(\"Você escolheu se cadastrar\")\n",
        "elif opcao == \"3\":\n",
        "    print(\"Você escolheu fazer uma consulta\")\n",
        "else:\n",
        "    print(\"Opção Inválida\")"
      ],
      "execution_count": null,
      "outputs": []
    }
  ]
}