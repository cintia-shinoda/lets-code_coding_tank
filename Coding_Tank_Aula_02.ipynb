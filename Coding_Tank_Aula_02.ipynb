{
  "nbformat": 4,
  "nbformat_minor": 0,
  "metadata": {
    "colab": {
      "name": "Coding Tank - Aula 02.ipynb",
      "provenance": [],
      "collapsed_sections": [
        "G4shoyp_FrCh"
      ]
    },
    "kernelspec": {
      "name": "python3",
      "display_name": "Python 3"
    },
    "language_info": {
      "name": "python"
    }
  },
  "cells": [
    {
      "cell_type": "markdown",
      "metadata": {
        "id": "NQA1KwC_VIND"
      },
      "source": [
        "# Aula 02\n",
        "\n",
        "Thu 13 May / 2021"
      ]
    },
    {
      "cell_type": "markdown",
      "metadata": {
        "id": "x3simhn9E-t0"
      },
      "source": [
        "# LÓGICA PROPOSICIONAL"
      ]
    },
    {
      "cell_type": "markdown",
      "metadata": {
        "id": "QKHPYPYA5ANn"
      },
      "source": [
        "- **Proposições simples:** são constantes lógicas. Podem ser Verdadeiras ou Falsas individualmente.\n",
        "\n",
        "- **Proposições Compostas:** dadas duas preposições (A e B) e conectores entre elas, podemos avaliar a veracidade de uma afirmação lógica utilizando a das duas preposições\n",
        "\n",
        "- **Tautologia:**\n",
        "é uma proposição lógica que é sempre verdadeira.\n",
        "\n",
        "- **Contradição:**\n",
        "é uma proposição lógica que é sempre falsa."
      ]
    },
    {
      "cell_type": "markdown",
      "metadata": {
        "id": "G4shoyp_FrCh"
      },
      "source": [
        "## Operadores de Comparação\n",
        "\n",
        "<table>\n",
        "    <thead>\n",
        "        <th> Símbolo </th>\n",
        "        <th> Significado </th>\n",
        "    </thead>\n",
        "    <tbody>\n",
        "        <tr>\n",
        "            <td> > </td>\n",
        "            <td> maior que </td>\n",
        "        </tr>\n",
        "        <tr>\n",
        "            <td> < </td>\n",
        "            <td> menor que </td>\n",
        "        </tr>\n",
        "        <tr>\n",
        "            <td> >= </td>\n",
        "            <td> maior ou igual </td>\n",
        "        </tr>\n",
        "        <tr>\n",
        "            <td> <= </td>\n",
        "            <td> menor ou igual </td>\n",
        "        </tr>\n",
        "                <tr>\n",
        "            <td> == </td>\n",
        "            <td> igual </td>\n",
        "        </tr>\n",
        "        <tr>\n",
        "            <td> != </td>\n",
        "            <td> diferente </td>\n",
        "        </tr>\n",
        "    </tbody>\n",
        "</table>\n",
        "\n",
        "- o resultado de comparação será sempre um booleano (True/False)\n",
        "\n",
        "- **comparação de strings:** comparação de ordem alfabética: primeiro caractere de uma string com o primeiro caractere da outra string, se forem diferentes, é definida pela ordem alfabética de menor (A) para maior(Z)\n",
        "Se forem iguais, o próximo caractere é avalidado.\n",
        "Caso uma das strings acabe primeiro, ela é considerada menor\n",
        "- é possível fazer comparação de tipos numáricos diferentes (int e float)\n",
        "- string e tipos numéricos podem ser comparados co  `==` ou `!=, mas sempre serão avaliados como diferentes"
      ]
    },
    {
      "cell_type": "code",
      "metadata": {
        "colab": {
          "base_uri": "https://localhost:8080/"
        },
        "id": "z6Hb-5eSVBna",
        "outputId": "9bb6bd5f-ecb6-4a32-c222-3679020c88b4"
      },
      "source": [
        "ord('a')   # tabela Unicode"
      ],
      "execution_count": null,
      "outputs": [
        {
          "output_type": "execute_result",
          "data": {
            "text/plain": [
              "97"
            ]
          },
          "metadata": {
            "tags": []
          },
          "execution_count": 4
        }
      ]
    },
    {
      "cell_type": "code",
      "metadata": {
        "colab": {
          "base_uri": "https://localhost:8080/"
        },
        "id": "rdmXxXBDZqb2",
        "outputId": "6d2a35dc-6288-460f-e24a-9a0b4b754c0f"
      },
      "source": [
        "ord('b')"
      ],
      "execution_count": null,
      "outputs": [
        {
          "output_type": "execute_result",
          "data": {
            "text/plain": [
              "98"
            ]
          },
          "metadata": {
            "tags": []
          },
          "execution_count": 3
        }
      ]
    },
    {
      "cell_type": "code",
      "metadata": {
        "colab": {
          "base_uri": "https://localhost:8080/"
        },
        "id": "B6yqa_onaNdH",
        "outputId": "b71f9caa-150c-43c7-b021-f8c91863339a"
      },
      "source": [
        "'6' > '50'"
      ],
      "execution_count": null,
      "outputs": [
        {
          "output_type": "execute_result",
          "data": {
            "text/plain": [
              "True"
            ]
          },
          "metadata": {
            "tags": []
          },
          "execution_count": 5
        }
      ]
    },
    {
      "cell_type": "code",
      "metadata": {
        "colab": {
          "base_uri": "https://localhost:8080/"
        },
        "id": "MEhmDBGBaxZT",
        "outputId": "e959bc2b-55e8-43c7-a860-8ea4da849d54"
      },
      "source": [
        "6 > 2.0"
      ],
      "execution_count": null,
      "outputs": [
        {
          "output_type": "execute_result",
          "data": {
            "text/plain": [
              "True"
            ]
          },
          "metadata": {
            "tags": []
          },
          "execution_count": 6
        }
      ]
    },
    {
      "cell_type": "code",
      "metadata": {
        "id": "xY_R99kpbOpS"
      },
      "source": [
        "'bla' > 0  # não se compara str com int"
      ],
      "execution_count": null,
      "outputs": []
    },
    {
      "cell_type": "markdown",
      "metadata": {
        "id": "z9r48uFLbg-1"
      },
      "source": [
        "## Operadores Lógicos\n",
        "- **Negação:** `not`  (conector: `¬` ): inverte o valor lógico do operando\n",
        "- **Conjunção:** `and`  (conector: `∧` ): True somente se ambos os valores forem True\n",
        "- **Disjunção:** `or` (conector: `∨`  : True se pelo menos um dos valores for True\n",
        "- **Implicação:** (conector: `⟶` ): é True se ambos forem True ou se A é False\n",
        "- **Bicondicional:** (conector: `≡` ) é True se ambas forem True ou ambas False\n",
        "\n",
        "<table>\n",
        "    <thead>\n",
        "        <th> A </th>\n",
        "        <th> B </th>\n",
        "        <th> not A </th>\n",
        "        <th> A and B </th>\n",
        "        <th> A or B </th>\n",
        "    </thead>\n",
        "    <tbody>\n",
        "        <tr>\n",
        "            <td> False </td>\n",
        "            <td> False </td>\n",
        "            <td> True </td>\n",
        "            <td> False </td>\n",
        "            <td> False </td>\n",
        "        </tr>\n",
        "        <tr>\n",
        "            <td> False </td>\n",
        "            <td> True </td>\n",
        "            <td> True </td>\n",
        "            <td> False </td>\n",
        "            <td> True </td>\n",
        "        </tr>\n",
        "        <tr>\n",
        "            <td> True </td>\n",
        "            <td> False </td>\n",
        "            <td> False </td>\n",
        "            <td> False </td>\n",
        "            <td> True </td>\n",
        "        </tr>\n",
        "        <tr>\n",
        "            <td> True </td>\n",
        "            <td> True </td>\n",
        "            <td> False </td>\n",
        "            <td> True </td>\n",
        "            <td> True </td>\n",
        "        </tr>\n",
        "    </tbody>\n",
        "</table>\n",
        "\n",
        "### Precedência dos Operadores Lógicos\n",
        "`¬` , `∧` , `∨`, `⟶`, `⟷``\n",
        "\n",
        "### Variações da Implicação:\n",
        "- **Recíproca:** obtida trocando a premissa com a conclusão: \n",
        "\n",
        "Recíproca de `A ⟶ B` é `B ⟶ A`\n",
        "- **Contrapositiva:** obtida trocando a premissa com a conclusão e negando ambas\n",
        "\n",
        "Contrapositiva de `A ⟶ B` é `¬B ⟶ ¬A`\n",
        "- **Inversa:** obtida negando a premissa e a conclusão\n",
        "\n",
        "Inversa de `A ⟶ B` é `¬A ⟶ ¬B`\n",
        "\n",
        "Equivalente à recíproca.\n",
        "- **Negação da Implicação:** obtida negando a implicação\n",
        "\n",
        "Negação de `A ⟶ B` é `¬(A ⟶ B)`\n",
        "\n",
        "Equivalente a `P ∧ ¬B`\n",
        "\n",
        "### Leis de De Morgan\n",
        "permite expressar conjunções e disjunções uma em termo da negação da outra.\n",
        "\n",
        "$$ \\overline{A \\cup B} = \\overline{A} \\cap \\overline{B} $$\n",
        "$$ \\overline{A \\cap B} = \\overline{A} \\cup \\overline{B} $$\n",
        "\n",
        "| A     | B     | A and B | not(A and B) | not A  | not B  | (not A) or (not B)  |\n",
        "|-------|-------|---------|--------------|--------|--------|---------------------|\n",
        "| False | False | False   | True         | True   | True   | True   | \n",
        "| False | True  | False   | True         | True   | False  | True   |\n",
        "| True  | False | False   | True         | False  | True   | True   |\n",
        "| True  | True  | True    | False        | False  | False  | False |\n",
        "\n",
        "\n",
        "### Exercício:\n",
        "Simplifique a expressão:\n",
        "not (idade > 12 or altura > 1.5)\n",
        "<br>R: (idade <= 12 and altura <= 1.5)"
      ]
    },
    {
      "cell_type": "code",
      "metadata": {
        "id": "zB3vhQ27CarJ"
      },
      "source": [
        ""
      ],
      "execution_count": null,
      "outputs": []
    },
    {
      "cell_type": "markdown",
      "metadata": {
        "id": "8BlEs3sFCSc8"
      },
      "source": [
        "### Simplificação de expressões envolvendo operações lógicas e condicionais \n",
        "\n",
        "Expressões lógicas/condicionais podem ser escritas de maneira mais simples, mas conservando a sua tabela verdade.\n",
        "\n",
        "Ex: \n",
        "```python\n",
        "idade > 10 and idade > 20                  ->   idade > 20\n",
        "```\n",
        "```python\n",
        "idade < 10 or altura < 12 or idade >= 10   ->  sempre True\n",
        "```\n",
        "```python\n",
        "not (idade > 10)                           ->   idade <= 10\n",
        "```"
      ]
    },
    {
      "cell_type": "markdown",
      "metadata": {
        "id": "a8RfnY-XFLfW"
      },
      "source": [
        "# CONTROLE DE FLUXO (IF-ELIF-ELSE)\n",
        "\n",
        "- estruturas condicionais\n",
        "- indentação obrigatória\n",
        "\n",
        "```python\n",
        "if (condicao é True):\n",
        "    operacoes se a condicao é verdadeira\n",
        "else:\n",
        "    operacoes se a condicao é falsa\n",
        "```"
      ]
    },
    {
      "cell_type": "markdown",
      "metadata": {
        "id": "B6Hepp4Ik-TJ"
      },
      "source": [
        "## Exercício: \n",
        "imagine que uma escola tem o seguinte critério de avaliação baseado na **media** do aluno e em sua **frequência**\n",
        "\n",
        "- regra 1: se a média for maior ou igual a 9, o aluno é aprovado, independente da frequencia;\n",
        "- regra 2: se a média estiver entre 6 e 9, o aluno só é aprovado se a frequencia for maior ou igual a 75%\n",
        "- regra 3: se a média estiver entre 6 e 9, mas a frequencia for menor que 75%, ele vai pra recuperação\n",
        "- regra 4: se a média for menor que 6 e a frequencia do aluno for maior ou igual a 75%, ele pode fazer recuperação\n",
        "- regra 5: se a média for menor que 6 e a frequência do aluno for menor que a 75%, ele é automaticamente reprovado\n",
        "\n",
        "Como implementamos este algoritmo?"
      ]
    },
    {
      "cell_type": "code",
      "metadata": {
        "colab": {
          "base_uri": "https://localhost:8080/"
        },
        "id": "0MX8amD7FOAL",
        "outputId": "3f7ad197-14fe-4bb2-badd-418b80846c6c"
      },
      "source": [
        "media = float(input(\"Informe a média do aluno: \"))\n",
        "frequencia = int(input(\"Informe a frequência do aluno: \"))\n",
        "\n",
        "if media >= 9:\n",
        "    print('Aprovado')\n",
        "elif media >= 6 and frequencia >= 75:\n",
        "    print('Aprovado')\n",
        "elif media >= 6 and frequencia < 75:\n",
        "    print('Recuperação')\n",
        "elif media < 6 and frequencia >= 75:\n",
        "    print('Recuperação')\n",
        "else: \n",
        "    print('Reprovado')"
      ],
      "execution_count": null,
      "outputs": [
        {
          "output_type": "stream",
          "text": [
            "Informe a média do aluno: 8\n",
            "Informe a frequência do aluno80\n",
            "Aprovado\n"
          ],
          "name": "stdout"
        }
      ]
    },
    {
      "cell_type": "markdown",
      "metadata": {
        "id": "3cGb7jZosi41"
      },
      "source": [
        "## Operadores Condicionais\n",
        "    - if\n",
        "    - elif\n",
        "    - else\n",
        "\n",
        "\n",
        "- o uso de elif e else não é obrigatório\n",
        "\n",
        "- Se alguma condição no if ou elif for verdadeira, todo o resto é ignorado!\n",
        "- Por isso, as condições no if e os diferentes elifs sempre são excludentes"
      ]
    },
    {
      "cell_type": "markdown",
      "metadata": {
        "id": "E8y0eQIZtDLk"
      },
      "source": [
        "## Exercicio:\n",
        "UniPython \n",
        "\n",
        "O esquema de cotas no vestibular da UniPython funciona com um multiplicador em cima da nota do aluno cotista de acordo com a classe de cotas. Os multiplicadores são dados a seguir: \n",
        "\n",
        "- Classe A: 1.1\n",
        "- Classe B: 1.05\n",
        "\n",
        "Assim, se o aluno fez 90 pontos na prova e é cotista classe A, a pontuação final dele é 99. Caso não seja cotista, a pontuação final dele é 90. \n",
        "\n",
        "Faça um programa que lê a pontuacao do aluno na prova, a classe de cotas dele (A, B, ou N para não cotista) e imprime a pontuação final dele "
      ]
    },
    {
      "cell_type": "code",
      "metadata": {
        "colab": {
          "base_uri": "https://localhost:8080/"
        },
        "id": "jkcPy35tss6B",
        "outputId": "52259a50-e533-4e77-81e8-f49edd6d13da"
      },
      "source": [
        "pontuacao = float(input(\"Informe a pontuação do aluno na prova: \"))\n",
        "classe_cota = input(\"Informe a classe de cota: A, B ou N para não cotista: \")\n",
        "\n",
        "if classe_cota == \"A\":\n",
        "    print(\"A pontuação final é: \", pontuacao * 1.1)\n",
        "elif classe_cota == \"B\":\n",
        "    print(\"A pontuação final é: \", pontuacao * 1.05)\n",
        "else:\n",
        "    print(\"A pontuação final é: \", pontuacao)"
      ],
      "execution_count": null,
      "outputs": [
        {
          "output_type": "stream",
          "text": [
            "Informe a pontuação do aluno na prova: 90\n",
            "Informe a classe de cota: A, B ou N para não cotista: A\n",
            "A pontuação final é:  99.00000000000001\n"
          ],
          "name": "stdout"
        }
      ]
    },
    {
      "cell_type": "markdown",
      "metadata": {
        "id": "l5H4EWbZuIw8"
      },
      "source": [
        "## Exercício:\n",
        "Ordenador\n",
        "\n",
        "Faça um programa que lê 3 números e imprime, em uma linha, os números em ordem crescente"
      ]
    },
    {
      "cell_type": "code",
      "metadata": {
        "colab": {
          "base_uri": "https://localhost:8080/"
        },
        "id": "RttPUze7uBj2",
        "outputId": "f8a567db-bedc-4eed-d01d-e7580d914616"
      },
      "source": [
        "num1 = int(input(\"Digite o primeiro número: \"))\n",
        "num2 = int(input(\"Digite o segundo número: \"))\n",
        "num3 = int(input(\"Digite o terceiro número: \"))\n",
        "\n",
        "if num1 < num2 and num1 < num3 and num2 < num3:\n",
        "    print(num1, num2, num3)\n",
        "elif num1 < num2 and num1 < num3 and num3 < num2:\n",
        "    print(num1, num3, num2)\n",
        "elif num2 < num1 and num2 < num3 and num1 < num3:\n",
        "    print(num2, num1, num3)\n",
        "elif num2 < num1 and num2 < num3 and num3 < num1:\n",
        "    print(num2, num3, num1)\n",
        "elif num3 < num1 and num3 < num2 and num1 < num2:\n",
        "    print(num3, num1, num2)\n",
        "else:\n",
        "    print(num3, num2, num1)"
      ],
      "execution_count": null,
      "outputs": [
        {
          "output_type": "stream",
          "text": [
            "Digite o primeiro número: 6\n",
            "Digite o segundo número: 1\n",
            "Digite o terceiro número: 9\n",
            "1 6 9\n"
          ],
          "name": "stdout"
        }
      ]
    },
    {
      "cell_type": "markdown",
      "metadata": {
        "id": "Nl0letk7x8H_"
      },
      "source": [
        "## Exercício: \n",
        "Tiro ao alvo\n",
        "\n",
        "Faça um programa que lê as coordenadas X, Y do ponto em que a flecha atingiu o alvo e imprima o número de pontos que o arqueiro fez:\n",
        "\n",
        "<div>\n",
        "<img src=\"attachment:image.png\" width=\"200\"/>\n",
        "</div>\n",
        "\n",
        "OBS: Considere que os raios são 1, 2, 3.."
      ]
    },
    {
      "cell_type": "code",
      "metadata": {
        "id": "tOaqaastyWPN"
      },
      "source": [
        ""
      ],
      "execution_count": null,
      "outputs": []
    },
    {
      "cell_type": "markdown",
      "metadata": {
        "id": "dh82URbUyWkn"
      },
      "source": [
        "## Exercício:\n",
        "\n",
        "Dinheiro emprestado\n",
        "\n",
        "O Banco XYZ usa as seguintes informações para tomar decisão sobre o emprestimo oferecido ao cliente:\n",
        "- Idade\n",
        "- Salário\n",
        "- Valor do empréstimo\n",
        "- Score de crédito\n",
        "\n",
        "Os critérios para o banco emprestar são:\n",
        "- O empréstimo é menor que 10x o sálario\n",
        "- O salário é maior que 1000 reais\n",
        "- A idade é maior que 18 \n",
        "- O score de crédito é maior que 400\n",
        "- Se a idade é menor que 24, o score de crédito tem que ser maior que 600\n",
        "- Se o valor do empréstimo é maior que 10x o sálario, o score de crédito tem que ser maior \n",
        "\n",
        "Faça um programa para ler as informações do cliente e "
      ]
    },
    {
      "cell_type": "code",
      "metadata": {
        "id": "Apn8WHlTybYU"
      },
      "source": [
        ""
      ],
      "execution_count": null,
      "outputs": []
    }
  ]
}